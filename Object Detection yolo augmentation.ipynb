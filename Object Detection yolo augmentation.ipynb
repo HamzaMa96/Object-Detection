{
 "cells": [
  {
   "cell_type": "code",
   "execution_count": 1,
   "metadata": {},
   "outputs": [],
   "source": [
    "# Importing Libraries\n",
    "import os\n",
    "import numpy as np\n",
    "import cv2\n",
    "import argparse\n",
    "import time\n",
    "from tqdm import tqdm\n",
    "import torch"
   ]
  },
  {
   "cell_type": "code",
   "execution_count": 2,
   "metadata": {},
   "outputs": [],
   "source": [
    "#for renaming\n",
    "for filename in os.listdir(\"D:/Object Detection YoloV8/train/images1\"):\n",
    "    dst = \"\".join(filename.split(\" \"))\n",
    "    src = \"train/images1/\" + filename\n",
    "    # dst = \"train/images1/\" + dst\n",
    "    # os.rename(src , dst)"
   ]
  },
  {
   "cell_type": "code",
   "execution_count": 3,
   "metadata": {},
   "outputs": [],
   "source": [
    "#convert from Yolo to opencv format\n",
    "def yoloFormattocv(x1, y1, x2, y2, H, W):\n",
    "    bbox_width = x2 * W\n",
    "    bbox_height = y2 * H\n",
    "    center_x = x1 * W\n",
    "    center_y = y1 * H\n",
    "    voc = []\n",
    "    voc.append(center_x - (bbox_width / 2))\n",
    "    voc.append(center_y - (bbox_height / 2))\n",
    "    voc.append(center_x + (bbox_width / 2))\n",
    "    voc.append(center_y + (bbox_height / 2))\n",
    "    return [int(v) for v in voc]"
   ]
  },
  {
   "cell_type": "code",
   "execution_count": 4,
   "metadata": {},
   "outputs": [],
   "source": [
    "# Convert from opencv format to yolo format\n",
    "# H,W is the image height and width\n",
    "def cvFormattoYolo(corner, H, W):\n",
    "    bbox_W = corner[3] - corner[1]\n",
    "    bbox_H = corner[4] - corner[2]\n",
    "    center_bbox_x = (corner[1] + corner[3]) / 2\n",
    "    center_bbox_y = (corner[2] + corner[4]) / 2\n",
    "    return corner[0], round(center_bbox_x / W, 6), round(center_bbox_y / H, 6), round(bbox_W / W, 6), round(bbox_H / H, 6)"
   ]
  },
  {
   "cell_type": "code",
   "execution_count": 5,
   "metadata": {},
   "outputs": [],
   "source": [
    "class yoloRotatebbox:\n",
    "    def __init__(self, filename, image_ext, angle):\n",
    "        assert os.path.isfile(filename + image_ext)\n",
    "        assert os.path.isfile(filename + '.txt')\n",
    "        \n",
    "        self.filename = filename\n",
    "        self.image_ext = image_ext\n",
    "        self.angle = angle\n",
    "        \n",
    "        # Read image using cv2\n",
    "        self.image = cv2.imread(self.filename + self.image_ext, 1)\n",
    "        \n",
    "        rotation_angle = self.angle * np.pi / 180\n",
    "        self.rot_matrix = np.array(\n",
    "            [[np.cos(rotation_angle), -np.sin(rotation_angle)], [np.sin(rotation_angle), np.cos(rotation_angle)]])\n",
    "\n",
    "    def rotateYolobbox(self):\n",
    "        new_height, new_width = self.rotate_image().shape[:2]\n",
    "        f = open(self.filename + '.txt', 'r')\n",
    "        f1 = f.readlines()\n",
    "        new_bbox = []\n",
    "        H, W = self.image.shape[:2]\n",
    "        for x in f1:\n",
    "            bbox = x.strip('\\n').split(' ')\n",
    "            if len(bbox) > 1:\n",
    "                (center_x, center_y, bbox_width, bbox_height) = yoloFormattocv(float(bbox[1]), float(bbox[2]),\n",
    "                                                                               float(bbox[3]), float(bbox[4]), H, W)\n",
    "                upper_left_corner_shift = (center_x - W / 2, -H / 2 + center_y)\n",
    "                upper_right_corner_shift = (bbox_width - W / 2, -H / 2 + center_y)\n",
    "                lower_left_corner_shift = (center_x - W / 2, -H / 2 + bbox_height)\n",
    "                lower_right_corner_shift = (bbox_width - W / 2, -H / 2 + bbox_height)\n",
    "                new_lower_right_corner = [-1, -1]\n",
    "                new_upper_left_corner = []\n",
    "                for i in (upper_left_corner_shift, upper_right_corner_shift, lower_left_corner_shift,\n",
    "                          lower_right_corner_shift):\n",
    "                    new_coords = np.matmul(self.rot_matrix, np.array((i[0], -i[1])))\n",
    "                    x_prime, y_prime = new_width / 2 + new_coords[0], new_height / 2 - new_coords[1]\n",
    "                    if new_lower_right_corner[0] < x_prime:\n",
    "                        new_lower_right_corner[0] = x_prime\n",
    "                    if new_lower_right_corner[1] < y_prime:\n",
    "                        new_lower_right_corner[1] = y_prime\n",
    "                    if len(new_upper_left_corner) > 0:\n",
    "                        if new_upper_left_corner[0] > x_prime:\n",
    "                            new_upper_left_corner[0] = x_prime\n",
    "                        if new_upper_left_corner[1] > y_prime:\n",
    "                            new_upper_left_corner[1] = y_prime\n",
    "                    else:\n",
    "                        new_upper_left_corner.append(x_prime)\n",
    "                        new_upper_left_corner.append(y_prime)\n",
    "                #             print(x_prime, y_prime)\n",
    "                new_bbox.append([bbox[0], new_upper_left_corner[0], new_upper_left_corner[1],\n",
    "                                 new_lower_right_corner[0], new_lower_right_corner[1]])\n",
    "        return new_bbox\n",
    "        \n",
    "    def rotate_image(self):\n",
    "        \"\"\"\n",
    "        Rotates an image (angle in degrees) and expands image to avoid cropping\n",
    "        \"\"\"\n",
    "        height, width = self.image.shape[:2]  # image shape has 3 dimensions\n",
    "        image_center = (width / 2,\n",
    "                        height / 2)  # getRotationMatrix2D needs coordinates in reverse order (width, height) compared to shape\n",
    "        rotation_mat = cv2.getRotationMatrix2D(image_center, self.angle, 1.)\n",
    "        # rotation calculates the cos and sin, taking absolutes of those.\n",
    "        abs_cos = abs(rotation_mat[0, 0])\n",
    "        abs_sin = abs(rotation_mat[0, 1])\n",
    "        # find the new width and height bounds\n",
    "        bound_w = int(height * abs_sin + width * abs_cos)\n",
    "        bound_h = int(height * abs_cos + width * abs_sin)\n",
    "        # subtract old image center (bringing image back to origin) and adding the new image center coordinates\n",
    "        rotation_mat[0, 2] += bound_w / 2 - image_center[0]\n",
    "        rotation_mat[1, 2] += bound_h / 2 - image_center[1]\n",
    "        # rotate image with the new bounds and translated rotation matrix\n",
    "        rotated_mat = cv2.warpAffine(self.image, rotation_mat, (bound_w, bound_h))\n",
    "        return rotated_mat"
   ]
  },
  {
   "cell_type": "code",
   "execution_count": 6,
   "metadata": {},
   "outputs": [
    {
     "name": "stderr",
     "output_type": "stream",
     "text": [
      " 31%|███▏      | 5/16 [00:00<00:00, 5030.35it/s]\n"
     ]
    },
    {
     "ename": "AssertionError",
     "evalue": "",
     "output_type": "error",
     "traceback": [
      "\u001b[1;31m---------------------------------------------------------------------------\u001b[0m",
      "\u001b[1;31mAssertionError\u001b[0m                            Traceback (most recent call last)",
      "\u001b[1;32md:\\Object Detection YoloV8\\Object Detection yolo augmentation.ipynb Cell 6\u001b[0m in \u001b[0;36m1\n\u001b[0;32m      <a href='vscode-notebook-cell:/d%3A/Object%20Detection%20YoloV8/Object%20Detection%20yolo%20augmentation.ipynb#W4sZmlsZQ%3D%3D?line=8'>9</a>\u001b[0m     \u001b[39mcontinue\u001b[39;00m\n\u001b[0;32m     <a href='vscode-notebook-cell:/d%3A/Object%20Detection%20YoloV8/Object%20Detection%20yolo%20augmentation.ipynb#W4sZmlsZQ%3D%3D?line=9'>10</a>\u001b[0m \u001b[39mfor\u001b[39;00m angle \u001b[39min\u001b[39;00m angels:\n\u001b[1;32m---> <a href='vscode-notebook-cell:/d%3A/Object%20Detection%20YoloV8/Object%20Detection%20yolo%20augmentation.ipynb#W4sZmlsZQ%3D%3D?line=10'>11</a>\u001b[0m     im \u001b[39m=\u001b[39m yoloRotatebbox(image_name, image_ext, angle)\n\u001b[0;32m     <a href='vscode-notebook-cell:/d%3A/Object%20Detection%20YoloV8/Object%20Detection%20yolo%20augmentation.ipynb#W4sZmlsZQ%3D%3D?line=11'>12</a>\u001b[0m     bbox \u001b[39m=\u001b[39m im\u001b[39m.\u001b[39mrotateYolobbox()\n\u001b[0;32m     <a href='vscode-notebook-cell:/d%3A/Object%20Detection%20YoloV8/Object%20Detection%20yolo%20augmentation.ipynb#W4sZmlsZQ%3D%3D?line=12'>13</a>\u001b[0m     image \u001b[39m=\u001b[39m im\u001b[39m.\u001b[39mrotate_image()\n",
      "\u001b[1;32md:\\Object Detection YoloV8\\Object Detection yolo augmentation.ipynb Cell 6\u001b[0m in \u001b[0;36m4\n\u001b[0;32m      <a href='vscode-notebook-cell:/d%3A/Object%20Detection%20YoloV8/Object%20Detection%20yolo%20augmentation.ipynb#W4sZmlsZQ%3D%3D?line=1'>2</a>\u001b[0m \u001b[39mdef\u001b[39;00m \u001b[39m__init__\u001b[39m(\u001b[39mself\u001b[39m, filename, image_ext, angle):\n\u001b[0;32m      <a href='vscode-notebook-cell:/d%3A/Object%20Detection%20YoloV8/Object%20Detection%20yolo%20augmentation.ipynb#W4sZmlsZQ%3D%3D?line=2'>3</a>\u001b[0m     \u001b[39massert\u001b[39;00m os\u001b[39m.\u001b[39mpath\u001b[39m.\u001b[39misfile(filename \u001b[39m+\u001b[39m image_ext)\n\u001b[1;32m----> <a href='vscode-notebook-cell:/d%3A/Object%20Detection%20YoloV8/Object%20Detection%20yolo%20augmentation.ipynb#W4sZmlsZQ%3D%3D?line=3'>4</a>\u001b[0m     \u001b[39massert\u001b[39;00m os\u001b[39m.\u001b[39mpath\u001b[39m.\u001b[39misfile(filename \u001b[39m+\u001b[39m \u001b[39m'\u001b[39m\u001b[39m.txt\u001b[39m\u001b[39m'\u001b[39m)\n\u001b[0;32m      <a href='vscode-notebook-cell:/d%3A/Object%20Detection%20YoloV8/Object%20Detection%20yolo%20augmentation.ipynb#W4sZmlsZQ%3D%3D?line=5'>6</a>\u001b[0m     \u001b[39mself\u001b[39m\u001b[39m.\u001b[39mfilename \u001b[39m=\u001b[39m filename\n\u001b[0;32m      <a href='vscode-notebook-cell:/d%3A/Object%20Detection%20YoloV8/Object%20Detection%20yolo%20augmentation.ipynb#W4sZmlsZQ%3D%3D?line=6'>7</a>\u001b[0m     \u001b[39mself\u001b[39m\u001b[39m.\u001b[39mimage_ext \u001b[39m=\u001b[39m image_ext\n",
      "\u001b[1;31mAssertionError\u001b[0m: "
     ]
    }
   ],
   "source": [
    "if __name__ == \"__main__\":\n",
    "    angels=[45,90,135,180,225,270,315]\n",
    "    for filename in tqdm(os.listdir()):\n",
    "        file =filename.split(\".\")\n",
    "        if(file[-1]==\"jpg\"):\n",
    "            image_name=file[0]\n",
    "            image_ext=\".\"+file[1]\n",
    "        else:\n",
    "            continue\n",
    "        for angle in angels:\n",
    "            im = yoloRotatebbox(image_name, image_ext, angle)\n",
    "            bbox = im.rotateYolobbox()\n",
    "            image = im.rotate_image()\n",
    "            # to write rotateed image to disk\n",
    "            cv2.imwrite(image_name+'_' + str(angle) + '.jpg', image)\n",
    "            file_name = image_name+'_' + str(angle) + '.txt'\n",
    "            #print(\"For angle \"+str(angle))\n",
    "            if os.path.exists(file_name):\n",
    "                os.remove(file_name)\n",
    "            # to write the new rotated bboxes to file\n",
    "            for i in bbox:\n",
    "                with open(file_name, 'a') as fout:\n",
    "                    fout.writelines(\n",
    "                        ' '.join(map(str, cvFormattoYolo(i, im.rotate_image().shape[0], im.rotate_image().shape[1]))) + '\\n')\n"
   ]
  }
 ],
 "metadata": {
  "kernelspec": {
   "display_name": "Python 3",
   "language": "python",
   "name": "python3"
  },
  "language_info": {
   "codemirror_mode": {
    "name": "ipython",
    "version": 3
   },
   "file_extension": ".py",
   "mimetype": "text/x-python",
   "name": "python",
   "nbconvert_exporter": "python",
   "pygments_lexer": "ipython3",
   "version": "3.10.8"
  },
  "orig_nbformat": 4
 },
 "nbformat": 4,
 "nbformat_minor": 2
}
